{
 "cells": [
  {
   "cell_type": "markdown",
   "id": "5c31a2bc-2303-4ee0-be00-bf09fd6615e2",
   "metadata": {},
   "source": [
    "# User Behavior Classification and Battery Optimization\n",
    "\n",
    "This project focuses on analyzing mobile user behavior by applying machine learning techniques. We use clustering to segment users, a classification model to predict user behavior classes, and offer personalized battery optimization recommendations.\n",
    "\n",
    "## Goals:\n",
    "- Segment users based on app usage, screen time, and battery drain.\n",
    "- Build a classifier to predict user behavior classes.\n",
    "- Provide practical battery optimization tips based on the data."
   ]
  },
  {
   "cell_type": "code",
   "execution_count": null,
   "id": "0f434951-ae67-4811-8ad3-5ca9030d441f",
   "metadata": {},
   "outputs": [],
   "source": [
    "import numpy as np\n",
    "import pandas as pd"
   ]
  },
  {
   "cell_type": "code",
   "execution_count": null,
   "id": "2fb069db-8764-48c2-82c3-4592bdbe53dd",
   "metadata": {},
   "outputs": [],
   "source": [
    "df = pd.read_csv(\"user_behavior_dataset.csv\")"
   ]
  },
  {
   "cell_type": "code",
   "execution_count": null,
   "id": "97da1848-f648-4053-b182-bd2786e5119a",
   "metadata": {},
   "outputs": [],
   "source": [
    "df.head()"
   ]
  },
  {
   "cell_type": "code",
   "execution_count": null,
   "id": "7f9b6b45-687a-4b81-b806-0f0cd556b077",
   "metadata": {},
   "outputs": [],
   "source": [
    "df.isnull().sum()"
   ]
  },
  {
   "cell_type": "markdown",
   "id": "e44247ea-f7c9-4200-a062-7fdb1bbd98bd",
   "metadata": {},
   "source": [
    "## Clustering Analysis\n",
    "\n",
    "In this section, we use K-Means clustering to group users into distinct segments based on their mobile usage patterns. The features considered are app usage time, screen on time, battery drain, and data usage. The elbow method helps determine the optimal number of clusters."
   ]
  },
  {
   "cell_type": "code",
   "execution_count": null,
   "id": "410d6f82-0289-4b78-88bb-936322e1b29d",
   "metadata": {},
   "outputs": [],
   "source": [
    "# Selecting features relevant for clustering\n",
    "features = ['App Usage Time (min/day)', 'Screen On Time (hours/day)', \n",
    "            'Battery Drain (mAh/day)', 'Data Usage (MB/day)', 'Age']\n",
    "\n",
    "# Check for any missing values\n",
    "missing_data = df[features].isnull().sum()\n",
    "\n",
    "# If missing values exist, fill them (e.g., with the mean or median)\n",
    "data_cleaned = df[features].fillna(df[features].mean())\n",
    "\n",
    "# Standardize the data (scaling it so all features have equal importance)\n",
    "from sklearn.preprocessing import StandardScaler\n",
    "scaler = StandardScaler()\n",
    "data_scaled = scaler.fit_transform(data_cleaned)\n",
    "\n",
    "# Display the cleaned and scaled data\n",
    "data_cleaned.head()"
   ]
  },
  {
   "cell_type": "code",
   "execution_count": null,
   "id": "61ab328b-422c-4426-9b67-5fa41eef89f6",
   "metadata": {},
   "outputs": [],
   "source": [
    "from sklearn.cluster import KMeans\n",
    "import matplotlib.pyplot as plt\n",
    "\n",
    "# Elbow method to find optimal number of clusters\n",
    "wcss = []  # Within-cluster sum of squares\n",
    "\n",
    "for i in range(1, 10):\n",
    "    kmeans = KMeans(n_clusters=i, init='k-means++', max_iter=500, n_init=10, random_state=0)\n",
    "    kmeans.fit(data_scaled)\n",
    "    wcss.append(kmeans.inertia_)\n",
    "\n",
    "# Plotting the elbow curve\n",
    "plt.plot(range(1, 10), wcss)\n",
    "plt.title('Elbow Method')\n",
    "plt.xlabel('Number of clusters')\n",
    "plt.ylabel('WCSS')\n",
    "plt.show()"
   ]
  },
  {
   "cell_type": "markdown",
   "id": "291faccc-262c-44ea-bd51-7248ccd17cd6",
   "metadata": {},
   "source": [
    "## Classification Model\n",
    "\n",
    "We build a Random Forest Classifier to predict the user behavior class based on app usage and battery drain patterns. The data is split into training and testing sets to evaluate model performance. The classifier achieves 100% accuracy, indicating strong predictive power for this dataset."
   ]
  },
  {
   "cell_type": "code",
   "execution_count": null,
   "id": "00b0aaba-377a-40a9-9414-09c508a8f038",
   "metadata": {},
   "outputs": [],
   "source": [
    "# Applying KMeans with the chosen number of clusters\n",
    "kmeans = KMeans(n_clusters=3, init='k-means++', max_iter=300, n_init=10, random_state=0)\n",
    "clusters = kmeans.fit_predict(data_scaled)\n",
    "\n",
    "# Add the cluster labels to the original dataframe\n",
    "df['Cluster'] = clusters\n",
    "\n",
    "# Display the first few rows with clusters assigned\n",
    "df[['User ID', 'Cluster']].head()"
   ]
  },
  {
   "cell_type": "code",
   "execution_count": null,
   "id": "0c8b22cc-f107-4286-bfce-f251857bbba5",
   "metadata": {},
   "outputs": [],
   "source": [
    "import seaborn as sns\n",
    "\n",
    "# Visualizing the clusters using a scatter plot for two features\n",
    "plt.figure(figsize=(10, 6))\n",
    "sns.scatterplot(x=df['App Usage Time (min/day)'], y=df['Screen On Time (hours/day)'], \n",
    "                hue=df['Cluster'], palette='viridis')\n",
    "plt.title('User Segmentation Based on App Usage and Screen Time')\n",
    "plt.xlabel('App Usage Time (min/day)')\n",
    "plt.ylabel('Screen On Time (hours/day)')\n",
    "plt.show()"
   ]
  },
  {
   "cell_type": "code",
   "execution_count": null,
   "id": "c914f896-fc9c-47de-97b0-d5c4b408dce0",
   "metadata": {},
   "outputs": [],
   "source": [
    "# Selecting only numeric columns for aggregation\n",
    "numeric_columns = df.select_dtypes(include='number').columns\n",
    "\n",
    "# Grouping by 'Cluster' and calculating mean values for the numeric features\n",
    "cluster_profiles = df.groupby('Cluster')[numeric_columns].mean()\n",
    "\n",
    "# Display the cluster profiles to analyze the behaviors of each group\n",
    "cluster_profiles"
   ]
  },
  {
   "cell_type": "code",
   "execution_count": null,
   "id": "4b26f579-1062-45bb-8686-da49c5ed6ea6",
   "metadata": {},
   "outputs": [],
   "source": [
    "# Grouping by 'Cluster' and getting the most frequent (mode) non-numeric value\n",
    "non_numeric_columns = df.select_dtypes(exclude='number').columns\n",
    "\n",
    "# Apply mode to non-numeric columns\n",
    "cluster_modes = df.groupby('Cluster')[non_numeric_columns].agg(lambda x: x.mode()[0])\n",
    "\n",
    "# Display both numeric means and non-numeric modes\n",
    "cluster_summary = pd.concat([cluster_profiles, cluster_modes], axis=1)\n",
    "\n",
    "# Show the final cluster profiles with numeric and non-numeric info\n",
    "cluster_summary"
   ]
  },
  {
   "cell_type": "code",
   "execution_count": null,
   "id": "c0450582-7d94-4ba6-a48d-e6fb18da20e5",
   "metadata": {},
   "outputs": [],
   "source": [
    "import seaborn as sns\n",
    "import matplotlib.pyplot as plt\n",
    "\n",
    "# Pairplot to show relationships between features for each cluster\n",
    "sns.pairplot(df, hue='Cluster', vars=numeric_columns, palette='viridis')\n",
    "plt.title('Pair Plot of Features Colored by Clusters')\n",
    "plt.show()"
   ]
  },
  {
   "cell_type": "code",
   "execution_count": null,
   "id": "6657992a-c510-4431-a1de-2f34a010efeb",
   "metadata": {},
   "outputs": [],
   "source": [
    "plt.figure(figsize=(8, 6))\n",
    "sns.violinplot(x='Cluster', y='App Usage Time (min/day)', data=df, hue='Cluster', palette='viridis', legend=False)\n",
    "plt.title('App Usage Time Distribution Across Clusters')\n",
    "plt.show()"
   ]
  },
  {
   "cell_type": "code",
   "execution_count": null,
   "id": "8bfa4414-908d-4c7a-a97b-b6212b5c8794",
   "metadata": {},
   "outputs": [],
   "source": [
    "# Box plot to compare Screen On Time across clusters\n",
    "plt.figure(figsize=(8, 6))\n",
    "sns.boxplot(x='Cluster', y='Screen On Time (hours/day)', data=df, hue='Cluster', palette='viridis', legend=False)\n",
    "plt.title('Screen On Time Comparison Across Clusters')\n",
    "plt.show()"
   ]
  },
  {
   "cell_type": "code",
   "execution_count": null,
   "id": "26217fa9-2b09-4ea5-b12a-0d6589541982",
   "metadata": {},
   "outputs": [],
   "source": [
    "from mpl_toolkits.mplot3d import Axes3D\n",
    "\n",
    "# 3D Scatter plot for 3 main features\n",
    "fig = plt.figure(figsize=(10, 7))\n",
    "ax = fig.add_subplot(111, projection='3d')\n",
    "\n",
    "# Scatter plot using 3 features to visualize the clusters in 3D\n",
    "ax.scatter(df['App Usage Time (min/day)'], df['Screen On Time (hours/day)'], df['Battery Drain (mAh/day)'], \n",
    "           c=df['Cluster'], cmap='viridis', s=50)\n",
    "\n",
    "ax.set_xlabel('App Usage Time')\n",
    "ax.set_ylabel('Screen On Time')\n",
    "ax.set_zlabel('Battery Drain')\n",
    "plt.title('3D Scatter Plot of Clusters')\n",
    "plt.show()"
   ]
  },
  {
   "cell_type": "markdown",
   "id": "64a40a27-f6f6-4b52-850e-48160ce94a44",
   "metadata": {},
   "source": [
    "## Battery Optimization Recommendations\n",
    "\n",
    "Based on the battery drain levels of different users, we provide personalized recommendations to help users reduce battery drain. Users are segmented into low, medium, and high battery drain levels, and suggestions are made for each group on how to improve their battery life by adjusting screen time or data usage."
   ]
  },
  {
   "cell_type": "code",
   "execution_count": null,
   "id": "5d6cf04f-4e43-4ad2-9e42-9a537ef4a311",
   "metadata": {},
   "outputs": [],
   "source": [
    "# Prepare the features and target variable for prediction\n",
    "X = df[['App Usage Time (min/day)', 'Screen On Time (hours/day)', \n",
    "          'Battery Drain (mAh/day)', 'Data Usage (MB/day)', 'Age']]\n",
    "y = df['User Behavior Class']\n",
    "\n",
    "# Train/test split\n",
    "from sklearn.model_selection import train_test_split\n",
    "X_train, X_test, y_train, y_test = train_test_split(X, y, test_size=0.3, random_state=42)\n",
    "\n",
    "# Check the shape of the split data\n",
    "X_train.shape, X_test.shape"
   ]
  },
  {
   "cell_type": "code",
   "execution_count": null,
   "id": "d62bde7d-72b8-4185-a8cb-ffac9c348e07",
   "metadata": {},
   "outputs": [],
   "source": [
    "from sklearn.ensemble import RandomForestClassifier\n",
    "from sklearn.metrics import accuracy_score, classification_report, confusion_matrix\n",
    "\n",
    "# Initialize the Random Forest Classifier\n",
    "rf_model = RandomForestClassifier(n_estimators=100, random_state=42)\n",
    "\n",
    "# Train the model\n",
    "rf_model.fit(X_train, y_train)\n",
    "\n",
    "# Make predictions on the test set\n",
    "y_pred = rf_model.predict(X_test)\n",
    "\n",
    "# Evaluate the model\n",
    "accuracy = accuracy_score(y_test, y_pred)\n",
    "print(f'Accuracy: {accuracy:.4f}')\n",
    "\n",
    "# Detailed classification report\n",
    "print(\"Classification Report:\")\n",
    "print(classification_report(y_test, y_pred))\n",
    "\n",
    "# Confusion Matrix\n",
    "print(\"Confusion Matrix:\")\n",
    "print(confusion_matrix(y_test, y_pred))"
   ]
  },
  {
   "cell_type": "code",
   "execution_count": null,
   "id": "f694096a-1369-4997-8a5b-d05afe17b4ac",
   "metadata": {},
   "outputs": [],
   "source": [
    "from sklearn.model_selection import cross_val_score\n",
    "\n",
    "# Perform 5-fold cross-validation\n",
    "cv_scores = cross_val_score(rf_model, X, y, cv=5)\n",
    "print(f'Cross-Validation Accuracy Scores: {cv_scores}')\n",
    "print(f'Mean CV Accuracy: {cv_scores.mean():.4f}')"
   ]
  },
  {
   "cell_type": "code",
   "execution_count": null,
   "id": "d6d940be-dc49-4398-bf51-346e99c5b2d1",
   "metadata": {},
   "outputs": [],
   "source": [
    "# Get feature importances from the RandomForest model\n",
    "importances = rf_model.feature_importances_\n",
    "feature_names = X.columns\n",
    "\n",
    "# Display the feature importances\n",
    "for feature, importance in zip(feature_names, importances):\n",
    "    print(f'{feature}: {importance:.4f}')"
   ]
  },
  {
   "cell_type": "code",
   "execution_count": null,
   "id": "eeb748fe-8437-4b31-bbde-9f536e90de56",
   "metadata": {},
   "outputs": [],
   "source": [
    "# Step 1: Segment users by battery drain (low, medium, high)\n",
    "# Define thresholds for battery drain levels (these can be adjusted)\n",
    "bins = [0, 1000, 2000, 3000]  # Low: 0-1000, Medium: 1000-2000, High: 2000-3000\n",
    "labels = ['Low Drain', 'Medium Drain', 'High Drain']\n",
    "df['Battery Drain Level'] = pd.cut(df['Battery Drain (mAh/day)'], bins=bins, labels=labels)\n",
    "\n",
    "# Step 2: Create personalized recommendations for each battery drain level\n",
    "def recommend_battery_optimization(row):\n",
    "    if row['Battery Drain Level'] == 'Low Drain':\n",
    "        return 'Your battery usage is great! No major changes needed.'\n",
    "    elif row['Battery Drain Level'] == 'Medium Drain':\n",
    "        return 'Consider reducing app usage or screen on time to optimize battery life.'\n",
    "    else:\n",
    "        return 'High battery drain detected! Try reducing data usage and limiting screen time.'\n",
    "\n",
    "# Apply the recommendation function to the dataset\n",
    "df['Battery Optimization Recommendation'] = df.apply(recommend_battery_optimization, axis=1)\n",
    "\n",
    "# Display sample recommendations\n",
    "df[['Battery Drain (mAh/day)', 'Battery Drain Level', 'Battery Optimization Recommendation']].head()"
   ]
  },
  {
   "cell_type": "markdown",
   "id": "325ff298-2420-45ae-9f16-fb0b3ba8cb90",
   "metadata": {},
   "source": [
    "## Conclusion\n",
    "\n",
    "This project successfully segments users based on their mobile usage patterns, accurately predicts user behavior classes, and offers practical tips for optimizing battery life. Future work could explore additional machine learning models or refine the recommendations based on more granular user data."
   ]
  }
 ],
 "metadata": {
  "kernelspec": {
   "display_name": "Python 3 (ipykernel)",
   "language": "python",
   "name": "python3"
  },
  "language_info": {
   "codemirror_mode": {
    "name": "ipython",
    "version": 3
   },
   "file_extension": ".py",
   "mimetype": "text/x-python",
   "name": "python",
   "nbconvert_exporter": "python",
   "pygments_lexer": "ipython3",
   "version": "3.12.7"
  }
 },
 "nbformat": 4,
 "nbformat_minor": 5
}
